{
 "cells": [
  {
   "cell_type": "markdown",
   "metadata": {},
   "source": [
    "## Inspect Dataset"
   ]
  },
  {
   "cell_type": "code",
   "execution_count": 5,
   "metadata": {},
   "outputs": [
    {
     "data": {
      "image/png": "[encoded data removed]",
      "text/plain": [
       "<Figure size 640x480 with 1 Axes>"
      ]
     },
     "metadata": {},
     "output_type": "display_data"
    }
   ],
   "source": [
    "from transformers import AutoModelForCausalLM, AutoTokenizer\n",
    "from datasets import load_dataset\n",
    "from utils.prompter import Prompter\n",
    "import seaborn as sns\n",
    "\n",
    "prompter = Prompter()\n",
    "dataset = load_dataset(\"yahma/alpaca-cleaned\")\n",
    "tokenizer = AutoTokenizer.from_pretrained(\"meta-llama/Llama-3.1-8B\")\n",
    "\n",
    "# make statistics for the dataset[\"output\"] column's token lengths and plot them\n",
    "len_data = dataset[\"train\"].map(\n",
    "    lambda x: {\n",
    "        'output_len': len(tokenizer(x[\"output\"])[\"input_ids\"]),\n",
    "        'prompt_len': len(tokenizer(prompter.generate_prompt(x[\"instruction\"], x[\"input\"]))[\"input_ids\"])\n",
    "    }\n",
    ")\n",
    "\n",
    "# plot a list of lengths to see the histogram distribution\n",
    "import matplotlib.pyplot as plt\n",
    "\n",
    "sns.histplot(len_data[\"output_len\"], bins=50, color='blue', alpha=0.5, label='Output Lengths')\n",
    "sns.histplot(len_data[\"prompt_len\"], bins=50, color='red', alpha=0.5, label='Prompt Lengths')\n",
    "\n",
    "plt.title(\"Token Lengths Distribution\")\n",
    "plt.legend()\n",
    "plt.show()"
   ]
  },
  {
   "cell_type": "markdown",
   "metadata": {},
   "source": [
    "## Try to backpropagate loss only on completion tokens"
   ]
  },
  {
   "cell_type": "code",
   "execution_count": 1,
   "metadata": {},
   "outputs": [
    {
     "name": "stderr",
     "output_type": "stream",
     "text": [
      "/opt/conda/envs/alpaca-qlora/lib/python3.12/site-packages/tqdm/auto.py:21: TqdmWarning: IProgress not found. Please update jupyter and ipywidgets. See https://ipywidgets.readthedocs.io/en/stable/user_install.html\n",
      "  from .autonotebook import tqdm as notebook_tqdm\n",
      "Loading checkpoint shards: 100%|██████████| 4/4 [00:07<00:00,  1.99s/it]\n"
     ]
    },
    {
     "name": "stdout",
     "output_type": "stream",
     "text": [
      "trainable params: 6,815,744 || all params: 8,037,076,992 || trainable%: 0.0848\n"
     ]
    },
    {
     "data": {
      "text/plain": [
       "Dataset({\n",
       "    features: ['text', 'response_start_index'],\n",
       "    num_rows: 51760\n",
       "})"
      ]
     },
     "execution_count": 1,
     "metadata": {},
     "output_type": "execute_result"
    }
   ],
   "source": [
    "import transformers\n",
    "import torch\n",
    "from transformers import AutoModelForCausalLM, AutoTokenizer, BitsAndBytesConfig\n",
    "from datasets import load_dataset\n",
    "from trl import SFTConfig, SFTTrainer, DataCollatorForCompletionOnlyLM\n",
    "from peft import prepare_model_for_kbit_training, LoraConfig, get_peft_model\n",
    "from utils.prompter import Prompter\n",
    "\n",
    "dataset = load_dataset(\"yahma/alpaca-cleaned\")\n",
    "prompter = Prompter()\n",
    "bnb_config = BitsAndBytesConfig(\n",
    "    load_in_4bit=True,\n",
    "    bnb_4bit_use_double_quant=True,\n",
    "    bnb_4bit_quant_type=\"nf4\",\n",
    "    bnb_4bit_compute_dtype=torch.bfloat16\n",
    ")\n",
    "model = AutoModelForCausalLM.from_pretrained(\n",
    "    \"meta-llama/Llama-3.1-8B\", \n",
    "    device_map=\"auto\",\n",
    "    quantization_config=bnb_config,\n",
    ")\n",
    "model = prepare_model_for_kbit_training(model)\n",
    "lora_config = LoraConfig(\n",
    "        r=8,\n",
    "        lora_alpha=16,\n",
    "        target_modules=['q_proj', 'k_proj', 'v_proj', 'o_proj'],\n",
    "        lora_dropout=0.05,\n",
    "        bias=\"none\",\n",
    "        task_type=\"CAUSAL_LM\",\n",
    "    )\n",
    "model = get_peft_model(model, lora_config)\n",
    "model.print_trainable_parameters()\n",
    "\n",
    "tokenizer = AutoTokenizer.from_pretrained(\"meta-llama/Llama-3.1-8B\")\n",
    "tokenizer.pad_token = tokenizer.eos_token\n",
    "\n",
    "def generate_and_tokenize_prompt(data_point):\n",
    "    full_prompt = prompter.generate_prompt(\n",
    "        data_point[\"instruction\"],\n",
    "        data_point[\"input\"],\n",
    "        data_point[\"output\"],\n",
    "    )\n",
    "\n",
    "    full_prompt_tokens = tokenizer.encode(full_prompt, return_tensors=\"pt\")\n",
    "    output_tokens = tokenizer.encode(data_point[\"output\"], return_tensors=\"pt\")\n",
    "\n",
    "    response_start_index = full_prompt_tokens.shape[1] - output_tokens.shape[1] \n",
    "\n",
    "    return {\n",
    "        \"text\": full_prompt, \n",
    "        \"response_start_index\": response_start_index\n",
    "    }\n",
    "\n",
    "new_dataset = dataset[\"train\"].map(generate_and_tokenize_prompt)\n",
    "new_dataset.remove_columns([\"instruction\", \"input\", \"output\"])\n"
   ]
  },
  {
   "cell_type": "code",
   "execution_count": 5,
   "metadata": {},
   "outputs": [
    {
     "name": "stdout",
     "output_type": "stream",
     "text": [
      "[('Below', 39314), ('Ġis', 374), ('Ġan', 459), ('Ġinstruction', 7754), ('Ġthat', 430), ('Ġdescribes', 16964), ('Ġa', 264), ('Ġtask', 3465), ('.', 13), ('ĠWrite', 9842), ('Ġa', 264), ('Ġresponse', 2077), ('Ġthat', 430), ('Ġappropriately', 36001), ('Ġcompletes', 45695), ('Ġthe', 279), ('Ġrequest', 1715), ('.ĊĊ', 382), ('###', 14711), ('ĠInstruction', 30151), (':Ċ', 512), ('{', 90), ('instruction', 56074), ('}ĊĊ', 633), ('###', 14711), ('ĠResponse', 6075), (':Ċ', 512)]\n",
      "[('ĊĊ', 271), ('###', 14711), ('ĠResponse', 6075), (':Ċ', 512)]\n"
     ]
    }
   ],
   "source": [
    "def print_tokens_with_ids(txt):\n",
    "    tokens = tokenizer.tokenize(txt, add_special_tokens=False)\n",
    "    token_ids = tokenizer.encode(txt, add_special_tokens=False)\n",
    "    print(list(zip(tokens, token_ids)))\n",
    "\n",
    "prompt = \"\"\"Below is an instruction that describes a task. Write a response that appropriately completes the request.\\n\\n### Instruction:\\n{instruction}\\n\\n### Response:\\n\"\"\"\n",
    "print_tokens_with_ids(prompt)  # [..., ('▁Hello', 15043), ('<0x0A>', 13), ('<0x0A>', 13), ('##', 2277), ('#', 29937), ('▁Ass', 4007), ('istant', 22137), (':', 29901), ...]\n",
    "\n",
    "response_template = \"\\n\\n### Response:\\n\"\n",
    "print_tokens_with_ids(response_template)  # [('▁###', 835), ('▁Ass', 4007), ('istant', 22137), (':', 29901)]"
   ]
  },
  {
   "cell_type": "code",
   "execution_count": null,
   "metadata": {},
   "outputs": [],
   "source": [
    "from typing import List\n",
    "import os\n",
    "\n",
    "# parameter for trainer\n",
    "base_model: str = \"\"  # the only required argument\n",
    "data_path: str = \"yahma/alpaca-cleaned\"\n",
    "output_dir: str = \"./lora-alpaca\"\n",
    "device_map: str = \"auto\"\n",
    "# training hyperparams\n",
    "batch_size: int = 128\n",
    "micro_batch_size: int = 4\n",
    "num_epochs: int = 3\n",
    "learning_rate: float = 3e-4\n",
    "cutoff_len: int = 256\n",
    "val_set_size: int = 2000\n",
    "# lora hyperparams\n",
    "lora_r: int = 8\n",
    "lora_alpha: int = 16\n",
    "lora_dropout: float = 0.05\n",
    "lora_target_modules: List[str] = [\n",
    "    \"q_proj\",\n",
    "    \"v_proj\",\n",
    "]\n",
    "# llm hyperparams\n",
    "train_on_inputs: bool = True  # if False, masks out inputs in loss\n",
    "add_eos_token: bool = False\n",
    "group_by_length: bool = False  # faster, but produces an odd training loss curve\n",
    "# wandb params\n",
    "wandb_project: str = \"\"\n",
    "wandb_run_name: str = \"\"\n",
    "wandb_watch: str = \"\"  # options: false | gradients | all\n",
    "wandb_log_model: str = \"\"  # options: false | true\n",
    "resume_from_checkpoint: str = None  # either training checkpoint or final adapter\n",
    "prompt_template_name: str = \"alpaca\"  # The prompt template to use, will default to alpaca.\n",
    "# experimental\n",
    "use_landmark: bool = False\n",
    "use_rope_scaled: bool = False"
   ]
  },
  {
   "cell_type": "code",
   "execution_count": 3,
   "metadata": {},
   "outputs": [],
   "source": [
    "# parameter override\n",
    "num_epochs = 1\n",
    "micro_batch_size = 16\n",
    "val_set_size = 0"
   ]
  },
  {
   "cell_type": "code",
   "execution_count": 4,
   "metadata": {},
   "outputs": [
    {
     "name": "stderr",
     "output_type": "stream",
     "text": [
      "/opt/conda/envs/alpaca-qlora/lib/python3.12/site-packages/trl/trainer/utils.py:134: UserWarning: The pad_token_id and eos_token_id values of this tokenizer are identical. If you are planning for multi-turn training, it can result in the model continuously generating questions and answers without eos token. To avoid this, set the pad_token_id to a different value.\n",
      "  warnings.warn(\n",
      "/opt/conda/envs/alpaca-qlora/lib/python3.12/site-packages/transformers/training_args.py:1568: FutureWarning: `evaluation_strategy` is deprecated and will be removed in version 4.46 of 🤗 Transformers. Use `eval_strategy` instead\n",
      "  warnings.warn(\n",
      "/opt/conda/envs/alpaca-qlora/lib/python3.12/site-packages/trl/trainer/sft_trainer.py:309: UserWarning: You didn't pass a `max_seq_length` argument to the SFTTrainer, this will default to 1024\n",
      "  warnings.warn(\n"
     ]
    },
    {
     "name": "stdout",
     "output_type": "stream",
     "text": [
      "3 {'input_ids': tensor([[128000,  39314,    374,  ..., 128001, 128001, 128001],\n",
      "        [128000,  39314,    374,  ..., 128001, 128001, 128001],\n",
      "        [128000,  39314,    374,  ..., 128001, 128001, 128001],\n",
      "        ...,\n",
      "        [128000,  39314,    374,  ..., 128001, 128001, 128001],\n",
      "        [128000,  39314,    374,  ...,    872,  23277,     13],\n",
      "        [128000,  39314,    374,  ..., 128001, 128001, 128001]],\n",
      "       device='cuda:0'), 'attention_mask': tensor([[1, 1, 1,  ..., 0, 0, 0],\n",
      "        [1, 1, 1,  ..., 0, 0, 0],\n",
      "        [1, 1, 1,  ..., 0, 0, 0],\n",
      "        ...,\n",
      "        [1, 1, 1,  ..., 0, 0, 0],\n",
      "        [1, 1, 1,  ..., 1, 1, 1],\n",
      "        [1, 1, 1,  ..., 0, 0, 0]], device='cuda:0'), 'labels': tensor([[ -100,  -100,  -100,  ...,  -100,  -100,  -100],\n",
      "        [ -100,  -100,  -100,  ...,  -100,  -100,  -100],\n",
      "        [ -100,  -100,  -100,  ...,  -100,  -100,  -100],\n",
      "        ...,\n",
      "        [ -100,  -100,  -100,  ...,  -100,  -100,  -100],\n",
      "        [ -100,  -100,  -100,  ...,   872, 23277,    13],\n",
      "        [ -100,  -100,  -100,  ...,  -100,  -100,  -100]], device='cuda:0')}\n",
      "batch_size: 16\n",
      "<|begin_of_text|>Below is an instruction that describes a task, paired with an input that provides further context. Write a response that appropriately completes the request.\n",
      "\n",
      "### Instruction:\n",
      "Given a political leader name, describe one of their speeches.\n",
      "\n",
      "### Input:\n",
      "Nelson Mandela\n",
      "\n",
      "### Response:\n",
      "One of Nelson Mandela's most famous speeches was his inaugural address on May 10, 1994, when he was sworn in as South Africa's first black president after the end of apartheid. In his speech, Mandela spoke of the importance of unity, reconciliation and rebuilding the nation. He said \"We enter into a covenant that we shall build the society in which all South Africans, both black and white, will be able to walk tall, without any fear in their hearts, assured of their inalienable right to human dignity – a rainbow nation at peace with itself and the world.\" Mandela's speech was full of hope for the future of South Africa, inspiring the nation to come together to create a better future for all its citizens.<|end_of_text|><|end_of_text|><|end_of_text|><|end_of_text|><|end_of_text|><|end_of_text|><|end_of_text|><|end_of_text|><|end_of_text|><|end_of_text|><|end_of_text|><|end_of_text|><|end_of_text|><|end_of_text|><|end_of_text|><|end_of_text|><|end_of_text|><|end_of_text|><|end_of_text|><|end_of_text|><|end_of_text|><|end_of_text|><|end_of_text|><|end_of_text|><|end_of_text|><|end_of_text|><|end_of_text|><|end_of_text|><|end_of_text|><|end_of_text|><|end_of_text|><|end_of_text|><|end_of_text|><|end_of_text|><|end_of_text|><|end_of_text|><|end_of_text|><|end_of_text|><|end_of_text|><|end_of_text|><|end_of_text|><|end_of_text|><|end_of_text|><|end_of_text|><|end_of_text|><|end_of_text|><|end_of_text|><|end_of_text|><|end_of_text|><|end_of_text|><|end_of_text|><|end_of_text|><|end_of_text|><|end_of_text|><|end_of_text|><|end_of_text|><|end_of_text|><|end_of_text|><|end_of_text|><|end_of_text|><|end_of_text|><|end_of_text|><|end_of_text|><|end_of_text|><|end_of_text|><|end_of_text|><|end_of_text|><|end_of_text|><|end_of_text|><|end_of_text|><|end_of_text|><|end_of_text|><|end_of_text|><|end_of_text|><|end_of_text|><|end_of_text|><|end_of_text|><|end_of_text|><|end_of_text|><|end_of_text|><|end_of_text|><|end_of_text|><|end_of_text|><|end_of_text|><|end_of_text|><|end_of_text|><|end_of_text|><|end_of_text|><|end_of_text|><|end_of_text|><|end_of_text|><|end_of_text|><|end_of_text|><|end_of_text|><|end_of_text|><|end_of_text|><|end_of_text|><|end_of_text|><|end_of_text|><|end_of_text|><|end_of_text|><|end_of_text|><|end_of_text|><|end_of_text|><|end_of_text|><|end_of_text|><|end_of_text|><|end_of_text|><|end_of_text|><|end_of_text|><|end_of_text|><|end_of_text|><|end_of_text|><|end_of_text|><|end_of_text|><|end_of_text|><|end_of_text|><|end_of_text|><|end_of_text|><|end_of_text|><|end_of_text|><|end_of_text|><|end_of_text|><|end_of_text|><|end_of_text|><|end_of_text|><|end_of_text|><|end_of_text|><|end_of_text|><|end_of_text|><|end_of_text|><|end_of_text|><|end_of_text|><|end_of_text|><|end_of_text|><|end_of_text|><|end_of_text|><|end_of_text|><|end_of_text|>\n",
      "**************************************************\n",
      "_____________________________________________________One of Nelson Mandela's most famous speeches was his inaugural address on May 10, 1994, when he was sworn in as South Africa's first black president after the end of apartheid. In his speech, Mandela spoke of the importance of unity, reconciliation and rebuilding the nation. He said \"We enter into a covenant that we shall build the society in which all South Africans, both black and white, will be able to walk tall, without any fear in their hearts, assured of their inalienable right to human dignity – a rainbow nation at peace with itself and the world.\" Mandela's speech was full of hope for the future of South Africa, inspiring the nation to come together to create a better future for all its citizens.___________________________________________________________________________________________________________________________________________\n"
     ]
    }
   ],
   "source": [
    "instruction_template = \"### Instruction:\\n\"\n",
    "response_template = \"### Response:\\n\"\n",
    "collator = DataCollatorForCompletionOnlyLM(instruction_template=instruction_template, response_template=response_template, tokenizer=tokenizer, mlm=False)\n",
    "\n",
    "\n",
    "gradient_accumulation_steps = batch_size // micro_batch_size\n",
    "world_size = int(os.environ.get(\"WORLD_SIZE\", 1))\n",
    "ddp = world_size != 1\n",
    "if ddp:\n",
    "    device_map = {\"\": int(os.environ.get(\"LOCAL_RANK\") or 0)}\n",
    "    gradient_accumulation_steps = gradient_accumulation_steps // world_size\n",
    "\n",
    "# Check if parameter passed or if set within environ\n",
    "use_wandb = len(wandb_project) > 0 or (\n",
    "    \"WANDB_PROJECT\" in os.environ and len(os.environ[\"WANDB_PROJECT\"]) > 0\n",
    ")\n",
    "use_wandb = False\n",
    "\n",
    "training_args = SFTConfig(\n",
    "    per_device_train_batch_size=micro_batch_size,\n",
    "    gradient_accumulation_steps=gradient_accumulation_steps,\n",
    "    warmup_steps=100,\n",
    "    num_train_epochs=num_epochs,\n",
    "    learning_rate=learning_rate,\n",
    "    bf16=True,\n",
    "    logging_steps=10,\n",
    "    optim=\"paged_adamw_8bit\",\n",
    "    evaluation_strategy=\"steps\" if val_set_size > 0 else \"no\",\n",
    "    save_strategy=\"steps\",\n",
    "    eval_steps=100 if val_set_size > 0 else None,\n",
    "    save_steps=100,\n",
    "    output_dir=output_dir,\n",
    "    save_total_limit=3,\n",
    "    #load_best_model_at_end=True if val_set_size > 0 else False,\n",
    "    load_best_model_at_end=False,\n",
    "    ddp_find_unused_parameters=False if ddp else None,\n",
    "    group_by_length=group_by_length,\n",
    "    report_to=\"wandb\" if use_wandb else None,\n",
    "    run_name=wandb_run_name if use_wandb else None,\n",
    ")\n",
    "\n",
    "trainer = SFTTrainer(\n",
    "    model,\n",
    "    args=training_args,\n",
    "    train_dataset=new_dataset,\n",
    "    eval_dataset=None,\n",
    "    data_collator=collator,\n",
    ")\n",
    "\n",
    "for batch in trainer.get_train_dataloader():\n",
    "    print(len(batch), batch)\n",
    "    break\n",
    "\n",
    "batch['labels'][batch[\"labels\"] == -100] = tokenizer.encode(\"_\", add_special_tokens=False)[0]\n",
    "inputs = tokenizer.batch_decode(batch[\"input_ids\"])\n",
    "targets = tokenizer.batch_decode(batch[\"labels\"])\n",
    "print(\"batch_size:\", len(inputs))\n",
    "print(inputs[1])\n",
    "print(\"*\" * 50)\n",
    "print(targets[1])"
   ]
  },
  {
   "cell_type": "code",
   "execution_count": null,
   "metadata": {},
   "outputs": [],
   "source": [
    "trainer.train()"
   ]
  }
 ],
 "metadata": {
  "kernelspec": {
   "display_name": "alpaca-qlora",
   "language": "python",
   "name": "python3"
  },
  "language_info": {
   "codemirror_mode": {
    "name": "ipython",
    "version": 3
   },
   "file_extension": ".py",
   "mimetype": "text/x-python",
   "name": "python",
   "nbconvert_exporter": "python",
   "pygments_lexer": "ipython3",
   "version": "3.12.7"
  }
 },
 "nbformat": 4,
 "nbformat_minor": 2
}
